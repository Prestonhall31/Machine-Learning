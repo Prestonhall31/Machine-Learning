{
 "cells": [
  {
   "cell_type": "code",
   "execution_count": 1,
   "metadata": {},
   "outputs": [],
   "source": [
    "#!/usr/bin/python\n",
    "\n",
    "import sys\n",
    "import pickle\n",
    "sys.path.append(\"../tools/\")\n",
    "\n",
    "from feature_format import featureFormat, targetFeatureSplit\n",
    "from tester import dump_classifier_and_data"
   ]
  },
  {
   "cell_type": "code",
   "execution_count": 10,
   "metadata": {},
   "outputs": [],
   "source": [
    "### Task 1: Select what features you'll use.\n",
    "### features_list is a list of strings, each of which is a feature name.\n",
    "### The first feature must be \"poi\".\n",
    "features_list = ['poi',\n",
    "                 'salary', \"to_messages\",\n",
    "                 \"total_payments\",\n",
    "                 \"exercised_stock_options\",\n",
    "                 \"bonus\",\n",
    "                 \"restricted_stock\",\n",
    "                 \"shared_receipt_with_poi\",\n",
    "                 \"restricted_stock_deferred\",\n",
    "                 \"total_stock_value\",\n",
    "                 \"expenses\",\n",
    "                 \"loan_advances\",\n",
    "                 \"from_messages\",\n",
    "                 \"from_this_person_to_poi\",\n",
    "                 \"deferred_income\",\n",
    "                 \"long_term_incentive\",\n",
    "                 \"from_poi_to_this_person\"]# You will need to use more features\n",
    "\n",
    "### Load the dictionary containing the dataset\n",
    "with open(\"final_project_dataset.pkl\", \"rb\") as data_file:\n",
    "    data_dict = pickle.load(data_file)"
   ]
  },
  {
   "cell_type": "code",
   "execution_count": 11,
   "metadata": {
    "collapsed": true
   },
   "outputs": [
    {
     "data": {
      "text/plain": [
       "{'salary': 1060932,\n",
       " 'to_messages': 3275,\n",
       " 'deferral_payments': 6426990,\n",
       " 'total_payments': 17252530,\n",
       " 'loan_advances': 2000000,\n",
       " 'bonus': 2000000,\n",
       " 'email_address': 'mark.frevert@enron.com',\n",
       " 'restricted_stock_deferred': 'NaN',\n",
       " 'deferred_income': -3367011,\n",
       " 'total_stock_value': 14622185,\n",
       " 'expenses': 86987,\n",
       " 'from_poi_to_this_person': 242,\n",
       " 'exercised_stock_options': 10433518,\n",
       " 'from_messages': 21,\n",
       " 'other': 7427621,\n",
       " 'from_this_person_to_poi': 6,\n",
       " 'poi': False,\n",
       " 'long_term_incentive': 1617011,\n",
       " 'shared_receipt_with_poi': 2979,\n",
       " 'restricted_stock': 4188667,\n",
       " 'director_fees': 'NaN'}"
      ]
     },
     "execution_count": 11,
     "metadata": {},
     "output_type": "execute_result"
    }
   ],
   "source": [
    "### Task 2: Remove outliers\n",
    "\n",
    "data_dict.pop('TOTAL', 0) # Contains column total data\n",
    "data_dict.pop('THE TRAVEL AGENCY IN THE PARK', 0) # not an individual\n",
    "data_dict.pop('LOCKHART EUGENE E', 0) # record contains no information\n",
    "data_dict.pop('HUMPHREY GENE E', 0) # 'to_poi_rate' outlier\n",
    "data_dict.pop('LAVORATO JOHN J', 0) # 'from_poi_to_this_person' / 'total_payments' outlier\n",
    "data_dict.pop('FREVERT MARK A', 0) # 'total_payments' outlier"
   ]
  },
  {
   "cell_type": "code",
   "execution_count": 14,
   "metadata": {},
   "outputs": [],
   "source": [
    "### Task 3: Create new feature(s)\n",
    "\n",
    "my_dataset = {}\n",
    "for key in data_dict:\n",
    "    my_dataset[key] = data_dict[key]\n",
    "    try:\n",
    "        from_poi_rate = 1. * data_dict[key]['from_poi_to_this_person'] / \\\n",
    "        data_dict[key]['to_messages']\n",
    "    except:\n",
    "        from_poi_rate = \"NaN\"\n",
    "    try:\n",
    "        to_poi_rate = 1. * data_dict[key]['from_this_person_to_poi'] / \\\n",
    "        data_dict[key]['from_messages']\n",
    "    except:\n",
    "        to_poi_rate = \"NaN\"\n",
    "    my_dataset[key]['from_poi_rate'] = from_poi_rate\n",
    "    my_dataset[key]['to_poi_rate'] = to_poi_rate\n",
    "    \n",
    "### Store to my_dataset for easy export below.\n",
    "my_dataset = data_dict\n",
    "\n",
    "### Extract features and labels from dataset for local testing\n",
    "data = featureFormat(my_dataset, features_list, sort_keys = True)\n",
    "labels, features = targetFeatureSplit(data)"
   ]
  },
  {
   "cell_type": "code",
   "execution_count": 20,
   "metadata": {},
   "outputs": [
    {
     "name": "stdout",
     "output_type": "stream",
     "text": [
      "training time: 0.003 s\n",
      "Accuracy:  0.8857142857142857\n"
     ]
    }
   ],
   "source": [
    "### Task 4: Try a varity of classifiers\n",
    "### Please name your classifier clf for easy export below.\n",
    "### Note that if you want to do PCA or other multi-stage operations,\n",
    "### you'll need to use Pipelines. For more info:\n",
    "### http://scikit-learn.org/stable/modules/pipeline.html\n",
    "\n",
    "# Provided to give you a starting point. Try a variety of classifiers.\n",
    "from sklearn.naive_bayes import GaussianNB\n",
    "from sklearn.metrics import accuracy_score\n",
    "\n",
    "from time import time\n",
    "\n",
    "t0 = time()\n",
    "\n",
    "clf = GaussianNB() \n",
    "clf.fit(features, labels)    \n",
    "pred = clf.predict(features)\n",
    "\n",
    "acc = accuracy_score(pred, labels)\n",
    "\n",
    "print(\"training time:\", round(time()-t0, 3), \"s\")\n",
    "\n",
    "print(\"Accuracy: \", acc)"
   ]
  },
  {
   "cell_type": "code",
   "execution_count": 22,
   "metadata": {},
   "outputs": [],
   "source": [
    "### Task 5: Tune your classifier to achieve better than .3 precision and recall \n",
    "### using our testing script. Check the tester.py script in the final project\n",
    "### folder for details on the evaluation method, especially the test_classifier\n",
    "### function. Because of the small size of the dataset, the script uses\n",
    "### stratified shuffle split cross validation. For more info: \n",
    "### http://scikit-learn.org/stable/modules/generated/sklearn.cross_validation.StratifiedShuffleSplit.html\n",
    "\n",
    "# Example starting point. Try investigating other evaluation techniques!\n",
    "from sklearn.model_selection import train_test_split\n",
    "features_train, features_test, labels_train, labels_test = \\\n",
    "    train_test_split(features, labels, test_size=0.3, random_state=42)"
   ]
  },
  {
   "cell_type": "code",
   "execution_count": null,
   "metadata": {},
   "outputs": [],
   "source": [
    "### Task 6: Dump your classifier, dataset, and features_list so anyone can\n",
    "### check your results. You do not need to change anything below, but make sure\n",
    "### that the version of poi_id.py that you submit can be run on its own and\n",
    "### generates the necessary .pkl files for validating your results.\n",
    "\n",
    "dump_classifier_and_data(clf, my_dataset, features_list)"
   ]
  },
  {
   "cell_type": "markdown",
   "metadata": {},
   "source": [
    "## Questions"
   ]
  },
  {
   "cell_type": "markdown",
   "metadata": {},
   "source": [
    "1. Summarize for us the goal of this project and how machine learning is useful in trying to accomplish it. As part of your answer, give some background on the dataset and how it can be used to answer the project question. Were there any outliers in the data when you got it, and how did you handle those?  [relevant rubric items: “data exploration”, “outlier investigation”]\n",
    "\n",
    "> Answer"
   ]
  },
  {
   "cell_type": "markdown",
   "metadata": {},
   "source": [
    "2. What features did you end up using in your POI identifier, and what selection process did you use to pick them? Did you have to do any scaling? Why or why not? As part of the assignment, you should attempt to engineer your own feature that does not come ready-made in the dataset -- explain what feature you tried to make, and the rationale behind it. (You do not necessarily have to use it in the final analysis, only engineer and test it.) In your feature selection step, if you used an algorithm like a decision tree, please also give the feature importances of the features that you use, and if you used an automated feature selection function like SelectKBest, please report the feature scores and reasons for your choice of parameter values.  [relevant rubric items: “create new features”, “intelligently select features”, “properly scale features”]"
   ]
  },
  {
   "cell_type": "markdown",
   "metadata": {},
   "source": [
    "3. What algorithm did you end up using? What other one(s) did you try? How did model performance differ between algorithms?  [relevant rubric item: “pick an algorithm”]"
   ]
  },
  {
   "cell_type": "markdown",
   "metadata": {},
   "source": [
    "4. What does it mean to tune the parameters of an algorithm, and what can happen if you don’t do this well?  How did you tune the parameters of your particular algorithm? What parameters did you tune? (Some algorithms do not have parameters that you need to tune -- if this is the case for the one you picked, identify and briefly explain how you would have done it for the model that was not your final choice or a different model that does utilize parameter tuning, e.g. a decision tree classifier).  [relevant rubric items: “discuss parameter tuning”, “tune the algorithm”]"
   ]
  },
  {
   "cell_type": "markdown",
   "metadata": {},
   "source": [
    "5. What is validation, and what’s a classic mistake you can make if you do it wrong? How did you validate your analysis?  [relevant rubric items: “discuss validation”, “validation strategy”]"
   ]
  },
  {
   "cell_type": "markdown",
   "metadata": {},
   "source": [
    "6. Give at least 2 evaluation metrics and your average performance for each of them.  Explain an interpretation of your metrics that says something human-understandable about your algorithm’s performance. [relevant rubric item: “usage of evaluation metrics”]"
   ]
  },
  {
   "cell_type": "code",
   "execution_count": null,
   "metadata": {},
   "outputs": [],
   "source": []
  }
 ],
 "metadata": {
  "kernelspec": {
   "display_name": "Python 3",
   "language": "python",
   "name": "python3"
  },
  "language_info": {
   "codemirror_mode": {
    "name": "ipython",
    "version": 3
   },
   "file_extension": ".py",
   "mimetype": "text/x-python",
   "name": "python",
   "nbconvert_exporter": "python",
   "pygments_lexer": "ipython3",
   "version": "3.7.4"
  }
 },
 "nbformat": 4,
 "nbformat_minor": 2
}
