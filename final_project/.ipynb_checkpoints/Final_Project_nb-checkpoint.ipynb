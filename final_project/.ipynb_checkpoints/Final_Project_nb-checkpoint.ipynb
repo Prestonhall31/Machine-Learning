{
 "cells": [
  {
   "cell_type": "code",
   "execution_count": 1,
   "metadata": {},
   "outputs": [],
   "source": [
    "#!/usr/bin/python\n",
    "\n",
    "import sys\n",
    "import pickle\n",
    "import warnings\n",
    "sys.path.append(\"../tools/\")\n",
    "\n",
    "# Local packages/files\n",
    "from feature_format import featureFormat, targetFeatureSplit\n",
    "from tester import dump_classifier_and_data\n",
    "\n",
    "# Support packages\n",
    "import numpy as np\n",
    "import pandas as pd\n",
    "\n",
    "# Plotting packages\n",
    "import seaborn as sns\n",
    "import matplotlib.pyplot as plt\n"
   ]
  },
  {
   "cell_type": "code",
   "execution_count": 2,
   "metadata": {},
   "outputs": [],
   "source": [
    "### Load the dictionary containing the dataset\n",
    "with open(\"final_project_dataset.pkl\", \"rb\") as data_file:\n",
    "    data_dict = pickle.load(data_file)"
   ]
  },
  {
   "cell_type": "code",
   "execution_count": 3,
   "metadata": {},
   "outputs": [
    {
     "name": "stdout",
     "output_type": "stream",
     "text": [
      "<class 'pandas.core.frame.DataFrame'>\n",
      "Index: 146 entries, METTS MARK to GLISAN JR BEN F\n",
      "Data columns (total 21 columns):\n",
      "salary                       146 non-null object\n",
      "to_messages                  146 non-null object\n",
      "deferral_payments            146 non-null object\n",
      "total_payments               146 non-null object\n",
      "loan_advances                146 non-null object\n",
      "bonus                        146 non-null object\n",
      "email_address                146 non-null object\n",
      "restricted_stock_deferred    146 non-null object\n",
      "deferred_income              146 non-null object\n",
      "total_stock_value            146 non-null object\n",
      "expenses                     146 non-null object\n",
      "from_poi_to_this_person      146 non-null object\n",
      "exercised_stock_options      146 non-null object\n",
      "from_messages                146 non-null object\n",
      "other                        146 non-null object\n",
      "from_this_person_to_poi      146 non-null object\n",
      "poi                          146 non-null bool\n",
      "long_term_incentive          146 non-null object\n",
      "shared_receipt_with_poi      146 non-null object\n",
      "restricted_stock             146 non-null object\n",
      "director_fees                146 non-null object\n",
      "dtypes: bool(1), object(20)\n",
      "memory usage: 24.1+ KB\n"
     ]
    }
   ],
   "source": [
    "# import data_dict into a pandas dataframe for easier manipulation\n",
    "df = pd.DataFrame.from_dict(data_dict, orient = 'index')\n",
    "\n",
    "df.info()"
   ]
  },
  {
   "cell_type": "markdown",
   "metadata": {},
   "source": [
    "I can see that there are 146 rows and columns in this dataset. There are no null objects that were returned in this. This means that any NaN values are stored as strings. I will need to fix this. "
   ]
  },
  {
   "cell_type": "markdown",
   "metadata": {},
   "source": [
    "## Task 1: \n",
    "Select what features you'll use.\n"
   ]
  },
  {
   "cell_type": "markdown",
   "metadata": {},
   "source": [
    "## Task 2: \n",
    "Remove outliers\n"
   ]
  },
  {
   "cell_type": "code",
   "execution_count": 4,
   "metadata": {},
   "outputs": [
    {
     "name": "stdout",
     "output_type": "stream",
     "text": [
      "METTS MARK\n",
      "BAXTER JOHN C\n",
      "ELLIOTT STEVEN\n",
      "CORDES WILLIAM R\n",
      "HANNON KEVIN P\n",
      "MORDAUNT KRISTINA M\n",
      "MEYER ROCKFORD G\n",
      "MCMAHON JEFFREY\n",
      "HAEDICKE MARK E\n",
      "PIPER GREGORY F\n",
      "HUMPHREY GENE E\n",
      "NOLES JAMES L\n",
      "BLACHMAN JEREMY M\n",
      "SUNDE MARTIN\n",
      "GIBBS DANA R\n",
      "LOWRY CHARLES P\n",
      "COLWELL WESLEY\n",
      "MULLER MARK S\n",
      "JACKSON CHARLENE R\n",
      "WESTFAHL RICHARD K\n",
      "WALTERS GARETH W\n",
      "WALLS JR ROBERT H\n",
      "KITCHEN LOUISE\n",
      "CHAN RONNIE\n",
      "BELFER ROBERT\n",
      "SHANKMAN JEFFREY A\n",
      "WODRASKA JOHN\n",
      "BERGSIEKER RICHARD P\n",
      "URQUHART JOHN A\n",
      "BIBI PHILIPPE A\n",
      "RIEKER PAULA H\n",
      "WHALEY DAVID A\n",
      "BECK SALLY W\n",
      "HAUG DAVID L\n",
      "ECHOLS JOHN B\n",
      "MENDELSOHN JOHN\n",
      "HICKERSON GARY J\n",
      "CLINE KENNETH W\n",
      "LEWIS RICHARD\n",
      "HAYES ROBERT E\n",
      "KOPPER MICHAEL J\n",
      "LEFF DANIEL P\n",
      "LAVORATO JOHN J\n",
      "BERBERIAN DAVID\n",
      "DETMERING TIMOTHY J\n",
      "WAKEHAM JOHN\n",
      "POWERS WILLIAM\n",
      "GOLD JOSEPH\n",
      "BANNANTINE JAMES M\n",
      "DUNCAN JOHN H\n",
      "SHAPIRO RICHARD S\n",
      "SHERRIFF JOHN R\n",
      "SHELBY REX\n",
      "LEMAISTRE CHARLES\n",
      "DEFFNER JOSEPH M\n",
      "KISHKILL JOSEPH G\n",
      "WHALLEY LAWRENCE G\n",
      "MCCONNELL MICHAEL S\n",
      "PIRO JIM\n",
      "DELAINEY DAVID W\n",
      "SULLIVAN-SHAKLOVITZ COLLEEN\n",
      "WROBEL BRUCE\n",
      "LINDHOLM TOD A\n",
      "MEYER JEROME J\n",
      "LAY KENNETH L\n",
      "BUTTS ROBERT H\n",
      "OLSON CINDY K\n",
      "MCDONALD REBECCA\n",
      "CUMBERLAND MICHAEL S\n",
      "GAHN ROBERT S\n",
      "BADUM JAMES P\n",
      "HERMANN ROBERT J\n",
      "FALLON JAMES B\n",
      "GATHMANN WILLIAM D\n",
      "HORTON STANLEY C\n",
      "BOWEN JR RAYMOND M\n",
      "GILLIS JOHN\n",
      "FITZGERALD JAY L\n",
      "MORAN MICHAEL P\n",
      "REDMOND BRIAN L\n",
      "BAZELIDES PHILIP J\n",
      "BELDEN TIMOTHY N\n",
      "DIMICHELE RICHARD G\n",
      "DURAN WILLIAM D\n",
      "THORN TERENCE H\n",
      "FASTOW ANDREW S\n",
      "FOY JOE\n",
      "CALGER CHRISTOPHER F\n",
      "RICE KENNETH D\n",
      "KAMINSKI WINCENTY J\n",
      "LOCKHART EUGENE E\n",
      "COX DAVID\n",
      "OVERDYKE JR JERE C\n",
      "PEREIRA PAULO V. FERRAZ\n",
      "STABLER FRANK\n",
      "SKILLING JEFFREY K\n",
      "BLAKE JR. NORMAN P\n",
      "SHERRICK JEFFREY B\n",
      "PRENTICE JAMES\n",
      "GRAY RODNEY\n",
      "THE TRAVEL AGENCY IN THE PARK\n",
      "UMANOFF ADAM S\n",
      "KEAN STEVEN J\n",
      "TOTAL\n",
      "FOWLER PEGGY\n",
      "WASAFF GEORGE\n",
      "WHITE JR THOMAS E\n",
      "CHRISTODOULOU DIOMEDES\n",
      "ALLEN PHILLIP K\n",
      "SHARP VICTORIA T\n",
      "JAEDICKE ROBERT\n",
      "WINOKUR JR. HERBERT S\n",
      "BROWN MICHAEL\n",
      "MCCLELLAN GEORGE\n",
      "HUGHES JAMES A\n",
      "REYNOLDS LAWRENCE\n",
      "PICKERING MARK R\n",
      "BHATNAGAR SANJAY\n",
      "CARTER REBECCA C\n",
      "BUCHANAN HAROLD G\n",
      "YEAP SOON\n",
      "MURRAY JULIA H\n",
      "GARLAND C KEVIN\n",
      "DODSON KEITH\n",
      "YEAGER F SCOTT\n",
      "HIRKO JOSEPH\n",
      "DIETRICH JANET R\n",
      "DERRICK JR. JAMES V\n",
      "FREVERT MARK A\n",
      "PAI LOU L\n",
      "HAYSLETT RODERICK J\n",
      "BAY FRANKLIN R\n",
      "MCCARTY DANNY J\n",
      "FUGH JOHN L\n",
      "SCRIMSHAW MATTHEW\n",
      "KOENIG MARK E\n",
      "SAVAGE FRANK\n",
      "IZZO LAWRENCE L\n",
      "TILNEY ELIZABETH A\n",
      "MARTIN AMANDA K\n",
      "BUY RICHARD B\n",
      "GRAMM WENDY L\n",
      "CAUSEY RICHARD A\n",
      "TAYLOR MITCHELL S\n",
      "DONAHUE JR JEFFREY M\n",
      "GLISAN JR BEN F\n"
     ]
    }
   ],
   "source": [
    "# Remove NaNs\n",
    "df = df.replace('NaN', np.nan)\n",
    "\n",
    "# create a list of the employees\n",
    "names = pd.Series(list(data_dict.keys()))\n",
    "\n",
    "for i in names:\n",
    "    print(i)\n"
   ]
  },
  {
   "cell_type": "markdown",
   "metadata": {},
   "source": [
    "By reviewing the list of names, I can see that TOTAL and THE TRAVEL AGENCY IN THE PARK are not people and should be removed. "
   ]
  },
  {
   "cell_type": "code",
   "execution_count": 5,
   "metadata": {},
   "outputs": [],
   "source": [
    "# Rows TOTAL and THE TRAVEL AGENCY IN THE PARK are not people and so will be removed from the dataset. \n",
    "# The row 'LOCKHART EUGENE E' contains no information. \n",
    "\n",
    "df = df.drop(['TOTAL', 'THE TRAVEL AGENCY IN THE PARK'])"
   ]
  },
  {
   "cell_type": "code",
   "execution_count": 6,
   "metadata": {
    "scrolled": true
   },
   "outputs": [
    {
     "data": {
      "text/html": [
       "<div>\n",
       "<style scoped>\n",
       "    .dataframe tbody tr th:only-of-type {\n",
       "        vertical-align: middle;\n",
       "    }\n",
       "\n",
       "    .dataframe tbody tr th {\n",
       "        vertical-align: top;\n",
       "    }\n",
       "\n",
       "    .dataframe thead th {\n",
       "        text-align: right;\n",
       "    }\n",
       "</style>\n",
       "<table border=\"1\" class=\"dataframe\">\n",
       "  <thead>\n",
       "    <tr style=\"text-align: right;\">\n",
       "      <th></th>\n",
       "      <th>salary</th>\n",
       "      <th>to_messages</th>\n",
       "      <th>deferral_payments</th>\n",
       "      <th>total_payments</th>\n",
       "      <th>loan_advances</th>\n",
       "      <th>bonus</th>\n",
       "      <th>email_address</th>\n",
       "      <th>restricted_stock_deferred</th>\n",
       "      <th>deferred_income</th>\n",
       "      <th>total_stock_value</th>\n",
       "      <th>...</th>\n",
       "      <th>from_poi_to_this_person</th>\n",
       "      <th>exercised_stock_options</th>\n",
       "      <th>from_messages</th>\n",
       "      <th>other</th>\n",
       "      <th>from_this_person_to_poi</th>\n",
       "      <th>poi</th>\n",
       "      <th>long_term_incentive</th>\n",
       "      <th>shared_receipt_with_poi</th>\n",
       "      <th>restricted_stock</th>\n",
       "      <th>director_fees</th>\n",
       "    </tr>\n",
       "  </thead>\n",
       "  <tbody>\n",
       "    <tr>\n",
       "      <th>SKILLING JEFFREY K</th>\n",
       "      <td>1111258.0</td>\n",
       "      <td>3627.0</td>\n",
       "      <td>NaN</td>\n",
       "      <td>8682716.0</td>\n",
       "      <td>NaN</td>\n",
       "      <td>5600000.0</td>\n",
       "      <td>jeff.skilling@enron.com</td>\n",
       "      <td>NaN</td>\n",
       "      <td>NaN</td>\n",
       "      <td>26093672.0</td>\n",
       "      <td>...</td>\n",
       "      <td>88.0</td>\n",
       "      <td>19250000.0</td>\n",
       "      <td>108.0</td>\n",
       "      <td>22122.0</td>\n",
       "      <td>30.0</td>\n",
       "      <td>True</td>\n",
       "      <td>1920000.0</td>\n",
       "      <td>2042.0</td>\n",
       "      <td>6843672.0</td>\n",
       "      <td>NaN</td>\n",
       "    </tr>\n",
       "    <tr>\n",
       "      <th>LAY KENNETH L</th>\n",
       "      <td>1072321.0</td>\n",
       "      <td>4273.0</td>\n",
       "      <td>202911.0</td>\n",
       "      <td>103559793.0</td>\n",
       "      <td>81525000.0</td>\n",
       "      <td>7000000.0</td>\n",
       "      <td>kenneth.lay@enron.com</td>\n",
       "      <td>NaN</td>\n",
       "      <td>-300000.0</td>\n",
       "      <td>49110078.0</td>\n",
       "      <td>...</td>\n",
       "      <td>123.0</td>\n",
       "      <td>34348384.0</td>\n",
       "      <td>36.0</td>\n",
       "      <td>10359729.0</td>\n",
       "      <td>16.0</td>\n",
       "      <td>True</td>\n",
       "      <td>3600000.0</td>\n",
       "      <td>2411.0</td>\n",
       "      <td>14761694.0</td>\n",
       "      <td>NaN</td>\n",
       "    </tr>\n",
       "    <tr>\n",
       "      <th>FREVERT MARK A</th>\n",
       "      <td>1060932.0</td>\n",
       "      <td>3275.0</td>\n",
       "      <td>6426990.0</td>\n",
       "      <td>17252530.0</td>\n",
       "      <td>2000000.0</td>\n",
       "      <td>2000000.0</td>\n",
       "      <td>mark.frevert@enron.com</td>\n",
       "      <td>NaN</td>\n",
       "      <td>-3367011.0</td>\n",
       "      <td>14622185.0</td>\n",
       "      <td>...</td>\n",
       "      <td>242.0</td>\n",
       "      <td>10433518.0</td>\n",
       "      <td>21.0</td>\n",
       "      <td>7427621.0</td>\n",
       "      <td>6.0</td>\n",
       "      <td>False</td>\n",
       "      <td>1617011.0</td>\n",
       "      <td>2979.0</td>\n",
       "      <td>4188667.0</td>\n",
       "      <td>NaN</td>\n",
       "    </tr>\n",
       "    <tr>\n",
       "      <th>PICKERING MARK R</th>\n",
       "      <td>655037.0</td>\n",
       "      <td>898.0</td>\n",
       "      <td>NaN</td>\n",
       "      <td>1386690.0</td>\n",
       "      <td>400000.0</td>\n",
       "      <td>300000.0</td>\n",
       "      <td>mark.pickering@enron.com</td>\n",
       "      <td>NaN</td>\n",
       "      <td>NaN</td>\n",
       "      <td>28798.0</td>\n",
       "      <td>...</td>\n",
       "      <td>7.0</td>\n",
       "      <td>28798.0</td>\n",
       "      <td>67.0</td>\n",
       "      <td>NaN</td>\n",
       "      <td>0.0</td>\n",
       "      <td>False</td>\n",
       "      <td>NaN</td>\n",
       "      <td>728.0</td>\n",
       "      <td>NaN</td>\n",
       "      <td>NaN</td>\n",
       "    </tr>\n",
       "    <tr>\n",
       "      <th>WHALLEY LAWRENCE G</th>\n",
       "      <td>510364.0</td>\n",
       "      <td>6019.0</td>\n",
       "      <td>NaN</td>\n",
       "      <td>4677574.0</td>\n",
       "      <td>NaN</td>\n",
       "      <td>3000000.0</td>\n",
       "      <td>greg.whalley@enron.com</td>\n",
       "      <td>NaN</td>\n",
       "      <td>NaN</td>\n",
       "      <td>6079137.0</td>\n",
       "      <td>...</td>\n",
       "      <td>186.0</td>\n",
       "      <td>3282960.0</td>\n",
       "      <td>556.0</td>\n",
       "      <td>301026.0</td>\n",
       "      <td>24.0</td>\n",
       "      <td>False</td>\n",
       "      <td>808346.0</td>\n",
       "      <td>3920.0</td>\n",
       "      <td>2796177.0</td>\n",
       "      <td>NaN</td>\n",
       "    </tr>\n",
       "    <tr>\n",
       "      <th>DERRICK JR. JAMES V</th>\n",
       "      <td>492375.0</td>\n",
       "      <td>2181.0</td>\n",
       "      <td>NaN</td>\n",
       "      <td>550981.0</td>\n",
       "      <td>NaN</td>\n",
       "      <td>800000.0</td>\n",
       "      <td>james.derrick@enron.com</td>\n",
       "      <td>-1787380.0</td>\n",
       "      <td>-1284000.0</td>\n",
       "      <td>8831913.0</td>\n",
       "      <td>...</td>\n",
       "      <td>64.0</td>\n",
       "      <td>8831913.0</td>\n",
       "      <td>909.0</td>\n",
       "      <td>7482.0</td>\n",
       "      <td>20.0</td>\n",
       "      <td>False</td>\n",
       "      <td>484000.0</td>\n",
       "      <td>1401.0</td>\n",
       "      <td>1787380.0</td>\n",
       "      <td>NaN</td>\n",
       "    </tr>\n",
       "    <tr>\n",
       "      <th>FASTOW ANDREW S</th>\n",
       "      <td>440698.0</td>\n",
       "      <td>NaN</td>\n",
       "      <td>NaN</td>\n",
       "      <td>2424083.0</td>\n",
       "      <td>NaN</td>\n",
       "      <td>1300000.0</td>\n",
       "      <td>andrew.fastow@enron.com</td>\n",
       "      <td>NaN</td>\n",
       "      <td>-1386055.0</td>\n",
       "      <td>1794412.0</td>\n",
       "      <td>...</td>\n",
       "      <td>NaN</td>\n",
       "      <td>NaN</td>\n",
       "      <td>NaN</td>\n",
       "      <td>277464.0</td>\n",
       "      <td>NaN</td>\n",
       "      <td>True</td>\n",
       "      <td>1736055.0</td>\n",
       "      <td>NaN</td>\n",
       "      <td>1794412.0</td>\n",
       "      <td>NaN</td>\n",
       "    </tr>\n",
       "    <tr>\n",
       "      <th>SHERRIFF JOHN R</th>\n",
       "      <td>428780.0</td>\n",
       "      <td>3187.0</td>\n",
       "      <td>NaN</td>\n",
       "      <td>4335388.0</td>\n",
       "      <td>NaN</td>\n",
       "      <td>1500000.0</td>\n",
       "      <td>john.sherriff@enron.com</td>\n",
       "      <td>NaN</td>\n",
       "      <td>NaN</td>\n",
       "      <td>3128982.0</td>\n",
       "      <td>...</td>\n",
       "      <td>28.0</td>\n",
       "      <td>1835558.0</td>\n",
       "      <td>92.0</td>\n",
       "      <td>1852186.0</td>\n",
       "      <td>23.0</td>\n",
       "      <td>False</td>\n",
       "      <td>554422.0</td>\n",
       "      <td>2103.0</td>\n",
       "      <td>1293424.0</td>\n",
       "      <td>NaN</td>\n",
       "    </tr>\n",
       "    <tr>\n",
       "      <th>RICE KENNETH D</th>\n",
       "      <td>420636.0</td>\n",
       "      <td>905.0</td>\n",
       "      <td>NaN</td>\n",
       "      <td>505050.0</td>\n",
       "      <td>NaN</td>\n",
       "      <td>1750000.0</td>\n",
       "      <td>ken.rice@enron.com</td>\n",
       "      <td>NaN</td>\n",
       "      <td>-3504386.0</td>\n",
       "      <td>22542539.0</td>\n",
       "      <td>...</td>\n",
       "      <td>42.0</td>\n",
       "      <td>19794175.0</td>\n",
       "      <td>18.0</td>\n",
       "      <td>174839.0</td>\n",
       "      <td>4.0</td>\n",
       "      <td>True</td>\n",
       "      <td>1617011.0</td>\n",
       "      <td>864.0</td>\n",
       "      <td>2748364.0</td>\n",
       "      <td>NaN</td>\n",
       "    </tr>\n",
       "    <tr>\n",
       "      <th>CAUSEY RICHARD A</th>\n",
       "      <td>415189.0</td>\n",
       "      <td>1892.0</td>\n",
       "      <td>NaN</td>\n",
       "      <td>1868758.0</td>\n",
       "      <td>NaN</td>\n",
       "      <td>1000000.0</td>\n",
       "      <td>richard.causey@enron.com</td>\n",
       "      <td>NaN</td>\n",
       "      <td>-235000.0</td>\n",
       "      <td>2502063.0</td>\n",
       "      <td>...</td>\n",
       "      <td>58.0</td>\n",
       "      <td>NaN</td>\n",
       "      <td>49.0</td>\n",
       "      <td>307895.0</td>\n",
       "      <td>12.0</td>\n",
       "      <td>True</td>\n",
       "      <td>350000.0</td>\n",
       "      <td>1585.0</td>\n",
       "      <td>2502063.0</td>\n",
       "      <td>NaN</td>\n",
       "    </tr>\n",
       "  </tbody>\n",
       "</table>\n",
       "<p>10 rows × 21 columns</p>\n",
       "</div>"
      ],
      "text/plain": [
       "                        salary  to_messages  deferral_payments  \\\n",
       "SKILLING JEFFREY K   1111258.0       3627.0                NaN   \n",
       "LAY KENNETH L        1072321.0       4273.0           202911.0   \n",
       "FREVERT MARK A       1060932.0       3275.0          6426990.0   \n",
       "PICKERING MARK R      655037.0        898.0                NaN   \n",
       "WHALLEY LAWRENCE G    510364.0       6019.0                NaN   \n",
       "DERRICK JR. JAMES V   492375.0       2181.0                NaN   \n",
       "FASTOW ANDREW S       440698.0          NaN                NaN   \n",
       "SHERRIFF JOHN R       428780.0       3187.0                NaN   \n",
       "RICE KENNETH D        420636.0        905.0                NaN   \n",
       "CAUSEY RICHARD A      415189.0       1892.0                NaN   \n",
       "\n",
       "                     total_payments  loan_advances      bonus  \\\n",
       "SKILLING JEFFREY K        8682716.0            NaN  5600000.0   \n",
       "LAY KENNETH L           103559793.0     81525000.0  7000000.0   \n",
       "FREVERT MARK A           17252530.0      2000000.0  2000000.0   \n",
       "PICKERING MARK R          1386690.0       400000.0   300000.0   \n",
       "WHALLEY LAWRENCE G        4677574.0            NaN  3000000.0   \n",
       "DERRICK JR. JAMES V        550981.0            NaN   800000.0   \n",
       "FASTOW ANDREW S           2424083.0            NaN  1300000.0   \n",
       "SHERRIFF JOHN R           4335388.0            NaN  1500000.0   \n",
       "RICE KENNETH D             505050.0            NaN  1750000.0   \n",
       "CAUSEY RICHARD A          1868758.0            NaN  1000000.0   \n",
       "\n",
       "                                email_address  restricted_stock_deferred  \\\n",
       "SKILLING JEFFREY K    jeff.skilling@enron.com                        NaN   \n",
       "LAY KENNETH L           kenneth.lay@enron.com                        NaN   \n",
       "FREVERT MARK A         mark.frevert@enron.com                        NaN   \n",
       "PICKERING MARK R     mark.pickering@enron.com                        NaN   \n",
       "WHALLEY LAWRENCE G     greg.whalley@enron.com                        NaN   \n",
       "DERRICK JR. JAMES V   james.derrick@enron.com                 -1787380.0   \n",
       "FASTOW ANDREW S       andrew.fastow@enron.com                        NaN   \n",
       "SHERRIFF JOHN R       john.sherriff@enron.com                        NaN   \n",
       "RICE KENNETH D             ken.rice@enron.com                        NaN   \n",
       "CAUSEY RICHARD A     richard.causey@enron.com                        NaN   \n",
       "\n",
       "                     deferred_income  total_stock_value  ...  \\\n",
       "SKILLING JEFFREY K               NaN         26093672.0  ...   \n",
       "LAY KENNETH L              -300000.0         49110078.0  ...   \n",
       "FREVERT MARK A            -3367011.0         14622185.0  ...   \n",
       "PICKERING MARK R                 NaN            28798.0  ...   \n",
       "WHALLEY LAWRENCE G               NaN          6079137.0  ...   \n",
       "DERRICK JR. JAMES V       -1284000.0          8831913.0  ...   \n",
       "FASTOW ANDREW S           -1386055.0          1794412.0  ...   \n",
       "SHERRIFF JOHN R                  NaN          3128982.0  ...   \n",
       "RICE KENNETH D            -3504386.0         22542539.0  ...   \n",
       "CAUSEY RICHARD A           -235000.0          2502063.0  ...   \n",
       "\n",
       "                     from_poi_to_this_person  exercised_stock_options  \\\n",
       "SKILLING JEFFREY K                      88.0               19250000.0   \n",
       "LAY KENNETH L                          123.0               34348384.0   \n",
       "FREVERT MARK A                         242.0               10433518.0   \n",
       "PICKERING MARK R                         7.0                  28798.0   \n",
       "WHALLEY LAWRENCE G                     186.0                3282960.0   \n",
       "DERRICK JR. JAMES V                     64.0                8831913.0   \n",
       "FASTOW ANDREW S                          NaN                      NaN   \n",
       "SHERRIFF JOHN R                         28.0                1835558.0   \n",
       "RICE KENNETH D                          42.0               19794175.0   \n",
       "CAUSEY RICHARD A                        58.0                      NaN   \n",
       "\n",
       "                     from_messages       other  from_this_person_to_poi  \\\n",
       "SKILLING JEFFREY K           108.0     22122.0                     30.0   \n",
       "LAY KENNETH L                 36.0  10359729.0                     16.0   \n",
       "FREVERT MARK A                21.0   7427621.0                      6.0   \n",
       "PICKERING MARK R              67.0         NaN                      0.0   \n",
       "WHALLEY LAWRENCE G           556.0    301026.0                     24.0   \n",
       "DERRICK JR. JAMES V          909.0      7482.0                     20.0   \n",
       "FASTOW ANDREW S                NaN    277464.0                      NaN   \n",
       "SHERRIFF JOHN R               92.0   1852186.0                     23.0   \n",
       "RICE KENNETH D                18.0    174839.0                      4.0   \n",
       "CAUSEY RICHARD A              49.0    307895.0                     12.0   \n",
       "\n",
       "                       poi  long_term_incentive  shared_receipt_with_poi  \\\n",
       "SKILLING JEFFREY K    True            1920000.0                   2042.0   \n",
       "LAY KENNETH L         True            3600000.0                   2411.0   \n",
       "FREVERT MARK A       False            1617011.0                   2979.0   \n",
       "PICKERING MARK R     False                  NaN                    728.0   \n",
       "WHALLEY LAWRENCE G   False             808346.0                   3920.0   \n",
       "DERRICK JR. JAMES V  False             484000.0                   1401.0   \n",
       "FASTOW ANDREW S       True            1736055.0                      NaN   \n",
       "SHERRIFF JOHN R      False             554422.0                   2103.0   \n",
       "RICE KENNETH D        True            1617011.0                    864.0   \n",
       "CAUSEY RICHARD A      True             350000.0                   1585.0   \n",
       "\n",
       "                     restricted_stock  director_fees  \n",
       "SKILLING JEFFREY K          6843672.0            NaN  \n",
       "LAY KENNETH L              14761694.0            NaN  \n",
       "FREVERT MARK A              4188667.0            NaN  \n",
       "PICKERING MARK R                  NaN            NaN  \n",
       "WHALLEY LAWRENCE G          2796177.0            NaN  \n",
       "DERRICK JR. JAMES V         1787380.0            NaN  \n",
       "FASTOW ANDREW S             1794412.0            NaN  \n",
       "SHERRIFF JOHN R             1293424.0            NaN  \n",
       "RICE KENNETH D              2748364.0            NaN  \n",
       "CAUSEY RICHARD A            2502063.0            NaN  \n",
       "\n",
       "[10 rows x 21 columns]"
      ]
     },
     "execution_count": 6,
     "metadata": {},
     "output_type": "execute_result"
    }
   ],
   "source": [
    "# Find outliers by sorting\n",
    "\n",
    "df.sort_values(by=['salary'],ascending=False).head(10)"
   ]
  },
  {
   "cell_type": "code",
   "execution_count": 7,
   "metadata": {},
   "outputs": [
    {
     "data": {
      "text/plain": [
       "poi                          1.000000\n",
       "total_stock_value            0.868056\n",
       "total_payments               0.854167\n",
       "email_address                0.770833\n",
       "restricted_stock             0.756944\n",
       "exercised_stock_options      0.701389\n",
       "expenses                     0.652778\n",
       "salary                       0.652778\n",
       "other                        0.631944\n",
       "from_messages                0.597222\n",
       "from_poi_to_this_person      0.597222\n",
       "from_this_person_to_poi      0.597222\n",
       "shared_receipt_with_poi      0.597222\n",
       "to_messages                  0.597222\n",
       "bonus                        0.562500\n",
       "long_term_incentive          0.451389\n",
       "deferred_income              0.333333\n",
       "deferral_payments            0.263889\n",
       "restricted_stock_deferred    0.118056\n",
       "director_fees                0.111111\n",
       "loan_advances                0.020833\n",
       "dtype: float64"
      ]
     },
     "execution_count": 7,
     "metadata": {},
     "output_type": "execute_result"
    }
   ],
   "source": [
    "na_percentage = df.count() / len(df)\n",
    "\n",
    "na_percentage.sort_values(ascending=False)"
   ]
  },
  {
   "cell_type": "code",
   "execution_count": 8,
   "metadata": {},
   "outputs": [
    {
     "data": {
      "text/plain": [
       "expenses                     18\n",
       "total_payments               18\n",
       "email_address                18\n",
       "poi                          18\n",
       "total_stock_value            18\n",
       "other                        18\n",
       "restricted_stock             17\n",
       "salary                       17\n",
       "bonus                        16\n",
       "from_poi_to_this_person      14\n",
       "from_messages                14\n",
       "from_this_person_to_poi      14\n",
       "shared_receipt_with_poi      14\n",
       "to_messages                  14\n",
       "exercised_stock_options      12\n",
       "long_term_incentive          12\n",
       "deferred_income              11\n",
       "deferral_payments             5\n",
       "loan_advances                 1\n",
       "restricted_stock_deferred     0\n",
       "director_fees                 0\n",
       "dtype: int64"
      ]
     },
     "execution_count": 8,
     "metadata": {},
     "output_type": "execute_result"
    }
   ],
   "source": [
    "# separate and count the NA values in poi\n",
    "\n",
    "poi_df = df[df.poi == True]\n",
    "poi_df.count().sort_values(ascending=False)"
   ]
  },
  {
   "cell_type": "code",
   "execution_count": 9,
   "metadata": {},
   "outputs": [
    {
     "data": {
      "text/plain": [
       "poi                          126\n",
       "total_stock_value            107\n",
       "total_payments               105\n",
       "email_address                 93\n",
       "restricted_stock              92\n",
       "exercised_stock_options       89\n",
       "salary                        77\n",
       "expenses                      76\n",
       "other                         73\n",
       "from_messages                 72\n",
       "from_poi_to_this_person       72\n",
       "from_this_person_to_poi       72\n",
       "shared_receipt_with_poi       72\n",
       "to_messages                   72\n",
       "bonus                         65\n",
       "long_term_incentive           53\n",
       "deferred_income               37\n",
       "deferral_payments             33\n",
       "restricted_stock_deferred     17\n",
       "director_fees                 16\n",
       "loan_advances                  2\n",
       "dtype: int64"
      ]
     },
     "execution_count": 9,
     "metadata": {},
     "output_type": "execute_result"
    }
   ],
   "source": [
    "# separate and count the NA values in non_poi \n",
    "\n",
    "non_poi_df = df[df.poi == False]\n",
    "non_poi_df.count().sort_values(ascending=False)"
   ]
  },
  {
   "cell_type": "markdown",
   "metadata": {},
   "source": [
    "There is more than 50% of the data that is NaN for these 6 attributes:\n",
    "\n",
    "- long_term_incentive\n",
    "- deferred_income\n",
    "- deferral_payments\n",
    "- restricted_stock_deferred\n",
    "- director_fees\n",
    "- loan_advances\n",
    "- email_address\n",
    "\n",
    "Since there is a lot of missing data in these columns, I will not use this information in my analysis. I will remove email_address as it will not be needed. "
   ]
  },
  {
   "cell_type": "code",
   "execution_count": 10,
   "metadata": {},
   "outputs": [
    {
     "data": {
      "text/plain": [
       "(144, 14)"
      ]
     },
     "execution_count": 10,
     "metadata": {},
     "output_type": "execute_result"
    }
   ],
   "source": [
    "df = df.drop(['long_term_incentive', \n",
    "              'deferred_income', \n",
    "              'deferral_payments', \n",
    "              'restricted_stock_deferred',\n",
    "              'director_fees', \n",
    "              'loan_advances', \n",
    "              'email_address'], axis=1)\n",
    "\n",
    "df.shape"
   ]
  },
  {
   "cell_type": "code",
   "execution_count": 11,
   "metadata": {},
   "outputs": [
    {
     "name": "stdout",
     "output_type": "stream",
     "text": [
      "HANNON KEVIN P \n",
      "  Total Payments: $288,682.00 \n",
      "  Total Stock Value: $6,391,065.00 \n",
      "\n",
      "COLWELL WESLEY \n",
      "  Total Payments: $1,490,344.00 \n",
      "  Total Stock Value: $698,242.00 \n",
      "\n",
      "RIEKER PAULA H \n",
      "  Total Payments: $1,099,100.00 \n",
      "  Total Stock Value: $1,918,887.00 \n",
      "\n",
      "KOPPER MICHAEL J \n",
      "  Total Payments: $2,652,612.00 \n",
      "  Total Stock Value: $985,032.00 \n",
      "\n",
      "SHELBY REX \n",
      "  Total Payments: $2,003,885.00 \n",
      "  Total Stock Value: $2,493,616.00 \n",
      "\n",
      "DELAINEY DAVID W \n",
      "  Total Payments: $4,747,979.00 \n",
      "  Total Stock Value: $3,614,261.00 \n",
      "\n",
      "LAY KENNETH L \n",
      "  Total Payments: $103,559,793.00 \n",
      "  Total Stock Value: $49,110,078.00 \n",
      "\n",
      "BOWEN JR RAYMOND M \n",
      "  Total Payments: $2,669,589.00 \n",
      "  Total Stock Value: $252,055.00 \n",
      "\n",
      "BELDEN TIMOTHY N \n",
      "  Total Payments: $5,501,630.00 \n",
      "  Total Stock Value: $1,110,705.00 \n",
      "\n",
      "FASTOW ANDREW S \n",
      "  Total Payments: $2,424,083.00 \n",
      "  Total Stock Value: $1,794,412.00 \n",
      "\n",
      "CALGER CHRISTOPHER F \n",
      "  Total Payments: $1,639,297.00 \n",
      "  Total Stock Value: $126,027.00 \n",
      "\n",
      "RICE KENNETH D \n",
      "  Total Payments: $505,050.00 \n",
      "  Total Stock Value: $22,542,539.00 \n",
      "\n",
      "SKILLING JEFFREY K \n",
      "  Total Payments: $8,682,716.00 \n",
      "  Total Stock Value: $26,093,672.00 \n",
      "\n",
      "YEAGER F SCOTT \n",
      "  Total Payments: $360,300.00 \n",
      "  Total Stock Value: $11,884,758.00 \n",
      "\n",
      "HIRKO JOSEPH \n",
      "  Total Payments: $91,093.00 \n",
      "  Total Stock Value: $30,766,064.00 \n",
      "\n",
      "KOENIG MARK E \n",
      "  Total Payments: $1,587,421.00 \n",
      "  Total Stock Value: $1,920,055.00 \n",
      "\n",
      "CAUSEY RICHARD A \n",
      "  Total Payments: $1,868,758.00 \n",
      "  Total Stock Value: $2,502,063.00 \n",
      "\n",
      "GLISAN JR BEN F \n",
      "  Total Payments: $1,272,284.00 \n",
      "  Total Stock Value: $778,546.00 \n",
      "\n",
      "Total number of POI's: 18\n"
     ]
    }
   ],
   "source": [
    "# This show the payments and stock value for all persons of interest, of which there are 18.\n",
    "count = 0\n",
    "for index, row in df.iterrows():\n",
    "    if row['poi']:\n",
    "        count += 1\n",
    "        print(index, '\\n  Total Payments:', '${:,.2f}'.format(row['total_payments']), \n",
    "              '\\n  Total Stock Value:', '${:,.2f}'.format(row['total_stock_value']),'\\n')\n",
    "print(\"Total number of POI's:\", count)\n"
   ]
  },
  {
   "cell_type": "code",
   "execution_count": 12,
   "metadata": {},
   "outputs": [
    {
     "data": {
      "image/png": "[encoded data removed]",
      "text/plain": [
       "<Figure size 566.125x504 with 1 Axes>"
      ]
     },
     "metadata": {
      "needs_background": "light"
     },
     "output_type": "display_data"
    },
    {
     "data": {
      "image/png": "[encoded data removed]",
      "text/plain": [
       "<Figure size 566.125x504 with 1 Axes>"
      ]
     },
     "metadata": {
      "needs_background": "light"
     },
     "output_type": "display_data"
    }
   ],
   "source": [
    "# Graph the salary and bonus's for each name and see if there is a correlation to the POI's\n",
    "sns.lmplot('total_payments', 'total_stock_value', data=df, hue='poi', fit_reg=False, height=(7))\n",
    "plt.show()\n",
    "\n",
    "# Setting a limiter on the x and y axis to show the data more spread out. \n",
    "sns.lmplot('total_payments', 'total_stock_value', \n",
    "           data=df, hue='poi', fit_reg=False, \n",
    "           height=(7)).set(xlim=(-1e6, 1.25e7),\n",
    "                           ylim=(-1e6, 1.25e7))\n",
    "plt.show()"
   ]
  },
  {
   "cell_type": "code",
   "execution_count": 13,
   "metadata": {},
   "outputs": [
    {
     "data": {
      "image/png": "[encoded data removed]",
      "text/plain": [
       "<Figure size 1152x144 with 1 Axes>"
      ]
     },
     "metadata": {
      "needs_background": "light"
     },
     "output_type": "display_data"
    },
    {
     "data": {
      "image/png": "[encoded data removed]",
      "text/plain": [
       "<Figure size 1152x144 with 1 Axes>"
      ]
     },
     "metadata": {
      "needs_background": "light"
     },
     "output_type": "display_data"
    },
    {
     "data": {
      "image/png": "[encoded data removed]",
      "text/plain": [
       "<Figure size 1152x144 with 1 Axes>"
      ]
     },
     "metadata": {
      "needs_background": "light"
     },
     "output_type": "display_data"
    }
   ],
   "source": [
    "plt.figure(figsize=(16, 2))\n",
    "sns.boxplot(x=df['salary']).set(xlim=(0, 0.1e7))\n",
    "plt.show()\n",
    "\n",
    "plt.figure(figsize=(16, 2))\n",
    "sns.boxplot(x=df['bonus']).set(xlim=(0, 0.5e7))\n",
    "plt.show()\n",
    "\n",
    "plt.figure(figsize=(16, 2))\n",
    "sns.boxplot(x=df['exercised_stock_options']).set(xlim=(0, 1e7))\n",
    "plt.show()"
   ]
  },
  {
   "cell_type": "markdown",
   "metadata": {},
   "source": [
    "## Task 3: \n",
    "Create new feature(s)"
   ]
  },
  {
   "cell_type": "markdown",
   "metadata": {},
   "source": [
    "### Custom Feature Creation\n",
    "\n",
    "- I think that there could be correlation between how much contact between poi and non-poi and their shared receipts can provide us with more insight into whether this person could potentially be a poi. \n",
    "\n",
    "- I also want to look at their total compensation package, total_payments plus total_stock_value to see if there could be some correlation there. \n",
    "\n",
    "I will create two new features based on these observations. "
   ]
  },
  {
   "cell_type": "code",
   "execution_count": 14,
   "metadata": {},
   "outputs": [],
   "source": [
    "# Create and add features to the dataframe.\n",
    "\n",
    "df['from_poi_with_shared_receipt_percentage'] = df.apply(lambda row: float(row.from_poi_to_this_person / \n",
    "                                                                           row.shared_receipt_with_poi), axis=1)\n",
    "\n",
    "df['total_compensation'] = df.apply(lambda row: float(row.total_payments + \n",
    "                                                      row.total_stock_value), axis=1)\n"
   ]
  },
  {
   "cell_type": "code",
   "execution_count": 15,
   "metadata": {},
   "outputs": [
    {
     "data": {
      "text/plain": [
       "<seaborn.axisgrid.FacetGrid at 0x12e3c41d0>"
      ]
     },
     "execution_count": 15,
     "metadata": {},
     "output_type": "execute_result"
    },
    {
     "data": {
      "image/png": "[encoded data removed]",
      "text/plain": [
       "<Figure size 566.125x504 with 1 Axes>"
      ]
     },
     "metadata": {
      "needs_background": "light"
     },
     "output_type": "display_data"
    }
   ],
   "source": [
    "sns.lmplot('total_compensation', 'from_poi_with_shared_receipt_percentage', \n",
    "           data=df, hue='poi', fit_reg=False, \n",
    "           height=(7)).set(xlim=(-1e6, 1.25e7))\n"
   ]
  },
  {
   "cell_type": "code",
   "execution_count": 16,
   "metadata": {},
   "outputs": [],
   "source": [
    "### features_list is a list of strings, each of which is a feature name.\n",
    "### The first feature must be \"poi\".\n",
    "# Setting emply features list for future use.\n",
    "features_list = []\n",
    "\n",
    "# Append features list\n",
    "for col in df.columns:\n",
    "    features_list.append(col)\n",
    "\n",
    "# Move 'poi' to front of list\n",
    "features_list.insert(0, features_list.pop(features_list.index('poi')))"
   ]
  },
  {
   "cell_type": "code",
   "execution_count": 17,
   "metadata": {},
   "outputs": [],
   "source": [
    "### Store to my_dataset for easy export below.\n",
    "my_dataset = df"
   ]
  },
  {
   "cell_type": "code",
   "execution_count": 18,
   "metadata": {},
   "outputs": [],
   "source": [
    "# Replacing the np.nan values with the string 'NaN' for preprocessing.\n",
    "my_dataset = my_dataset.replace(np.nan, 0)\n",
    "\n",
    "# Converting data back to dict for sklearn manipulation.\n",
    "my_dataset = my_dataset.to_dict('index')"
   ]
  },
  {
   "cell_type": "markdown",
   "metadata": {},
   "source": [
    "# my_dataset is ready to be split\n",
    "## Run SelectKBest on data before splitting. \n",
    "\n",
    "```python\n",
    "# Create the object for SelectKBest and fit and transform the classification data\n",
    "# k is the number of features you want to select [here it's 2]\n",
    "X_clf_new=SelectKBest(score_func=chi2,k=2).fit_transform(X_clf,y_clf)\n",
    "```"
   ]
  },
  {
   "cell_type": "code",
   "execution_count": 19,
   "metadata": {},
   "outputs": [],
   "source": [
    "### Extract features and labels from dataset for local testing\n",
    "\n",
    "data = featureFormat(my_dataset, features_list, sort_keys = True)\n",
    "labels, features = targetFeatureSplit(data)"
   ]
  },
  {
   "cell_type": "code",
   "execution_count": 20,
   "metadata": {},
   "outputs": [],
   "source": [
    "from sklearn.feature_selection import SelectKBest, f_classif\n",
    "\n",
    "\n",
    "# Create the object for SelectKBest and fit and transform the classification data\n",
    "# k is the number of features you want to select [here it's 2]\n",
    "\n",
    "X_clf_new=SelectKBest(score_func=f_classif,k=5).fit_transform(features,labels)\n"
   ]
  },
  {
   "cell_type": "code",
   "execution_count": null,
   "metadata": {},
   "outputs": [],
   "source": []
  },
  {
   "cell_type": "code",
   "execution_count": 21,
   "metadata": {},
   "outputs": [],
   "source": [
    "### Choose the 5 best features for testing\n",
    "from sklearn.feature_selection import SelectKBest, f_classif\n",
    "\n",
    "clf = SelectKBest(f_classif, k=5)\n",
    "clf.fit_transform(features,labels)\n",
    "\n",
    "# Print the resulting labels\n",
    "k_best_lables = df.columns[clf.get_support(indices=True)]\n",
    "k_best_lables_scores = clf.scores_[clf.get_support()]\n",
    "\n",
    "labels_scores = list(zip(k_best_lables, k_best_lables_scores))\n",
    "labels_scores_df = pd.DataFrame(data = labels_scores, columns=['Feat_names', 'F_Scores'])\n",
    "\n",
    "#Sort the dataframe for better visualization\n",
    "labels_scores_df_sorted = labels_scores_df.sort_values(['F_Scores', 'Feat_names'], ascending = [False, True])\n",
    "# print(labels_scores_df_sorted)"
   ]
  },
  {
   "cell_type": "markdown",
   "metadata": {},
   "source": [
    "####  Select K Best results\n",
    "\n",
    "From the code above, you can see that SelectKBest returned these five features and their respective F-Scores as the best features.  \n",
    "\n",
    "| Feat_names  |  F_Scores |\n",
    "| --- | --- |\n",
    "| exercised_stock_options | 24.815080 |\n",
    "|  total_stock_value | 24.182899 |\n",
    "| bonus |  20.792252 |\n",
    "|  salary |  18.289684 |\n",
    "|  from_poi_with_shared_receipt_percentage |  17.808791 |\n",
    "\n",
    "I can see that 'from_poi_with_shared_receipt_percentage' is a label that I created to use in my analysis. "
   ]
  },
  {
   "cell_type": "markdown",
   "metadata": {},
   "source": [
    "## Task 4:\n",
    "Try a varity of classifiers Please name your classifier clf for easy export below. Note that if you want to do PCA or other multi-stage operations, you'll need to use Pipelines. For more info: \n",
    "http://scikit-learn.org/stable/modules/pipeline.html"
   ]
  },
  {
   "cell_type": "code",
   "execution_count": 22,
   "metadata": {},
   "outputs": [],
   "source": [
    "### Use Sklearn's train_test_split model to separate data into testing and training data. \n",
    "\n",
    "from sklearn.model_selection import train_test_split\n",
    "features_train, features_test, labels_train, labels_test = \\\n",
    "    train_test_split(features, labels, test_size=0.3, random_state=42)"
   ]
  },
  {
   "cell_type": "code",
   "execution_count": 23,
   "metadata": {},
   "outputs": [],
   "source": [
    "## Naive Bayes\n",
    "from sklearn.naive_bayes import GaussianNB\n",
    "nb_clf = GaussianNB()\n",
    "\n",
    "## Decision Tree\n",
    "from sklearn import tree\n",
    "dt_clf = tree.DecisionTreeClassifier(min_samples_split=30)\n",
    "\n",
    "## Support Vector Machine Classifier\n",
    "from sklearn.svm import SVC\n",
    "svm_clf = SVC(gamma='scale', kernel='rbf', C=1000)\n",
    "\n",
    "## Adaboost Classifier\n",
    "from sklearn.ensemble import AdaBoostClassifier\n",
    "ab_clf = AdaBoostClassifier(algorithm='SAMME.R')\n",
    "\n",
    "## Random Forest\n",
    "from sklearn.ensemble import RandomForestClassifier\n",
    "rf_clf = RandomForestClassifier(n_estimators=10)\n",
    "\n",
    "\n",
    "from sklearn import metrics\n",
    "from sklearn.metrics import accuracy_score\n",
    "\n",
    "\n",
    "clfs = [nb_clf, svm_clf, dt_clf, ab_clf, rf_clf]\n",
    "\n"
   ]
  },
  {
   "cell_type": "code",
   "execution_count": 24,
   "metadata": {},
   "outputs": [],
   "source": [
    "def classifyer(clfs, f_train, f_test, l_train, l_test):\n",
    "\n",
    "    classifier_names = ['Naive Bayes', 'Support Vector Machine', 'Decision Tree', 'Ada Boost', 'Random Forest']\n",
    "    accuracy = []\n",
    "    precision = []\n",
    "    recall = []\n",
    "\n",
    "    for classifier in [nb_clf, svm_clf, dt_clf, ab_clf, rf_clf]:\n",
    "\n",
    "        clf = classifier\n",
    "        clf.fit(f_train, l_train)\n",
    "        predictions = clf.predict(f_test)\n",
    "\n",
    "        accuracy.append(\"{0:.0%}\".format(accuracy_score(l_test, predictions)))\n",
    "        precision.append(\"{0:.0%}\".format(metrics.precision_score(l_test, predictions)))\n",
    "        recall.append(\"{0:.0%}\".format(metrics.recall_score(l_test, predictions)))\n",
    "        \n",
    "    clf_df = pd.DataFrame([accuracy, precision, recall],\n",
    "                          columns = classifier_names,\n",
    "                          index=['Accuracy', 'Precision', 'Recall'])\n",
    "    \n",
    "    return clf_df\n"
   ]
  },
  {
   "cell_type": "code",
   "execution_count": 25,
   "metadata": {},
   "outputs": [
    {
     "data": {
      "text/html": [
       "<div>\n",
       "<style scoped>\n",
       "    .dataframe tbody tr th:only-of-type {\n",
       "        vertical-align: middle;\n",
       "    }\n",
       "\n",
       "    .dataframe tbody tr th {\n",
       "        vertical-align: top;\n",
       "    }\n",
       "\n",
       "    .dataframe thead th {\n",
       "        text-align: right;\n",
       "    }\n",
       "</style>\n",
       "<table border=\"1\" class=\"dataframe\">\n",
       "  <thead>\n",
       "    <tr style=\"text-align: right;\">\n",
       "      <th></th>\n",
       "      <th>Naive Bayes</th>\n",
       "      <th>Support Vector Machine</th>\n",
       "      <th>Decision Tree</th>\n",
       "      <th>Ada Boost</th>\n",
       "      <th>Random Forest</th>\n",
       "    </tr>\n",
       "  </thead>\n",
       "  <tbody>\n",
       "    <tr>\n",
       "      <th>Accuracy</th>\n",
       "      <td>88%</td>\n",
       "      <td>91%</td>\n",
       "      <td>84%</td>\n",
       "      <td>84%</td>\n",
       "      <td>86%</td>\n",
       "    </tr>\n",
       "    <tr>\n",
       "      <th>Precision</th>\n",
       "      <td>50%</td>\n",
       "      <td>67%</td>\n",
       "      <td>33%</td>\n",
       "      <td>25%</td>\n",
       "      <td>33%</td>\n",
       "    </tr>\n",
       "    <tr>\n",
       "      <th>Recall</th>\n",
       "      <td>40%</td>\n",
       "      <td>40%</td>\n",
       "      <td>40%</td>\n",
       "      <td>20%</td>\n",
       "      <td>20%</td>\n",
       "    </tr>\n",
       "  </tbody>\n",
       "</table>\n",
       "</div>"
      ],
      "text/plain": [
       "          Naive Bayes Support Vector Machine Decision Tree Ada Boost  \\\n",
       "Accuracy          88%                    91%           84%       84%   \n",
       "Precision         50%                    67%           33%       25%   \n",
       "Recall            40%                    40%           40%       20%   \n",
       "\n",
       "          Random Forest  \n",
       "Accuracy            86%  \n",
       "Precision           33%  \n",
       "Recall              20%  "
      ]
     },
     "execution_count": 25,
     "metadata": {},
     "output_type": "execute_result"
    }
   ],
   "source": [
    "classifyer(clfs, features_train, features_test, labels_train, labels_test)\n"
   ]
  },
  {
   "cell_type": "markdown",
   "metadata": {},
   "source": [
    "## Task 5: \n",
    "Tune your classifier to achieve better than .3 precision and recall using our testing script. Check the tester.py script in the final project folder for details on the evaluation method, especially the test_classifier function. Because of the small size of the dataset, the script uses stratified shuffle split cross validation. For more info: http://scikit-learn.org/stable/modules/generated/sklearn.cross_validation.StratifiedShuffleSplit.html\n"
   ]
  },
  {
   "cell_type": "code",
   "execution_count": 26,
   "metadata": {},
   "outputs": [],
   "source": [
    "######################################################################################################\n",
    "######################################################################################################"
   ]
  },
  {
   "cell_type": "code",
   "execution_count": 27,
   "metadata": {},
   "outputs": [
    {
     "name": "stdout",
     "output_type": "stream",
     "text": [
      "[0. 0. 0. 0. 0. 0. 0. 1. 0. 0. 0. 0. 0. 0. 0. 0. 0. 0. 0. 0. 0. 0. 0. 0.\n",
      " 0. 0. 0. 0. 0. 0. 0. 0. 0. 0. 0. 0. 1. 1. 0. 0. 0. 0. 0.]\n"
     ]
    }
   ],
   "source": [
    "from sklearn.decomposition import PCA\n",
    "pca = PCA(n_components=2)\n",
    "\n",
    "# Train\n",
    "pca.fit(features_train)\n",
    "pca.transform(features_train)\n",
    "svm_clf.fit(features_train, labels_train)\n",
    "\n",
    "# Test\n",
    "pca.transform(features_test)\n",
    "print(svm_clf.predict(features_test))\n",
    "\n"
   ]
  },
  {
   "cell_type": "code",
   "execution_count": 31,
   "metadata": {},
   "outputs": [],
   "source": [
    "# Using K-Fold to validate \n",
    "\n",
    "from sklearn.model_selection import KFold\n",
    "from sklearn import metrics\n",
    "\n",
    "kf = KFold(n_splits = 4, shuffle = True)\n",
    "\n",
    "for train_indices, test_indices in kf.split(labels):\n",
    "    # make training and testing dataset\n",
    "    kfeatures_train = [features[ii] for ii in train_indices]\n",
    "    kfeatures_test = [features[ii] for ii in test_indices]\n",
    "    klabels_train = [labels[ii] for ii in train_indices]\n",
    "    klabels_test = [labels[ii] for ii in test_indices]\n",
    "\n"
   ]
  },
  {
   "cell_type": "code",
   "execution_count": 32,
   "metadata": {},
   "outputs": [
    {
     "data": {
      "text/html": [
       "<div>\n",
       "<style scoped>\n",
       "    .dataframe tbody tr th:only-of-type {\n",
       "        vertical-align: middle;\n",
       "    }\n",
       "\n",
       "    .dataframe tbody tr th {\n",
       "        vertical-align: top;\n",
       "    }\n",
       "\n",
       "    .dataframe thead th {\n",
       "        text-align: right;\n",
       "    }\n",
       "</style>\n",
       "<table border=\"1\" class=\"dataframe\">\n",
       "  <thead>\n",
       "    <tr style=\"text-align: right;\">\n",
       "      <th></th>\n",
       "      <th>Naive Bayes</th>\n",
       "      <th>Support Vector Machine</th>\n",
       "      <th>Decision Tree</th>\n",
       "      <th>Ada Boost</th>\n",
       "      <th>Random Forest</th>\n",
       "    </tr>\n",
       "  </thead>\n",
       "  <tbody>\n",
       "    <tr>\n",
       "      <th>Accuracy</th>\n",
       "      <td>83%</td>\n",
       "      <td>86%</td>\n",
       "      <td>77%</td>\n",
       "      <td>89%</td>\n",
       "      <td>86%</td>\n",
       "    </tr>\n",
       "    <tr>\n",
       "      <th>Precision</th>\n",
       "      <td>25%</td>\n",
       "      <td>0%</td>\n",
       "      <td>25%</td>\n",
       "      <td>50%</td>\n",
       "      <td>0%</td>\n",
       "    </tr>\n",
       "    <tr>\n",
       "      <th>Recall</th>\n",
       "      <td>25%</td>\n",
       "      <td>0%</td>\n",
       "      <td>50%</td>\n",
       "      <td>25%</td>\n",
       "      <td>0%</td>\n",
       "    </tr>\n",
       "  </tbody>\n",
       "</table>\n",
       "</div>"
      ],
      "text/plain": [
       "          Naive Bayes Support Vector Machine Decision Tree Ada Boost  \\\n",
       "Accuracy          83%                    86%           77%       89%   \n",
       "Precision         25%                     0%           25%       50%   \n",
       "Recall            25%                     0%           50%       25%   \n",
       "\n",
       "          Random Forest  \n",
       "Accuracy            86%  \n",
       "Precision            0%  \n",
       "Recall               0%  "
      ]
     },
     "execution_count": 32,
     "metadata": {},
     "output_type": "execute_result"
    }
   ],
   "source": [
    "classifyer(clfs, kfeatures_train, kfeatures_test, klabels_train, klabels_test)\n"
   ]
  },
  {
   "cell_type": "code",
   "execution_count": null,
   "metadata": {},
   "outputs": [],
   "source": [
    "# Using GridSearchCV to fine tune the parameters\n",
    "afrom sklearn.model_selection import GridSearchCV\n",
    "\n",
    "parameters = {'kernel':('linear', 'rbf'), 'C':[1, 10]}\n",
    "svc = SVC(gamma=\"scale\")\n",
    "gs_svc_clf = GridSearchCV(svc, parameters, cv=5)\n",
    "gs_svc_clf.fit(features, labels)\n",
    "\n",
    "print(sorted(gs_svc_clf.cv_results_.keys()))"
   ]
  },
  {
   "cell_type": "code",
   "execution_count": null,
   "metadata": {},
   "outputs": [],
   "source": [
    "gs_svc_clf.best_params_"
   ]
  },
  {
   "cell_type": "code",
   "execution_count": null,
   "metadata": {},
   "outputs": [],
   "source": [
    "# Using GridSearchCV to fine tune the parameters\n",
    "# from sklearn.model_selection import GridSearchCV\n",
    "\n",
    "# parameters = {'kernel':('linear', 'rbf'), 'C':[1, 10]}\n",
    "# svc = SVC(gamma=\"scale\")\n",
    "\n",
    "# gs_svc_clf = GridSearchCV(svc, parameters)\n",
    "# gs_svc_clf.fit(kfeatures_train, klabels_train)\n",
    "\n",
    "# sorted(gs_svc_clf.cv_results_.keys())"
   ]
  },
  {
   "cell_type": "code",
   "execution_count": null,
   "metadata": {},
   "outputs": [],
   "source": [
    "gs_svc_clf.best_params_"
   ]
  },
  {
   "cell_type": "markdown",
   "metadata": {},
   "source": [
    "## Task 6: \n",
    "Dump your classifier, dataset, and features_list so anyone can check your results. You do not need to change anything below, but make sure that the version of poi_id.py that you submit can be run on its own and generates the necessary .pkl files for validating your results."
   ]
  },
  {
   "cell_type": "code",
   "execution_count": null,
   "metadata": {},
   "outputs": [],
   "source": [
    "dump_classifier_and_data(clf, my_dataset, features_list)"
   ]
  },
  {
   "cell_type": "markdown",
   "metadata": {},
   "source": [
    "## Questions"
   ]
  },
  {
   "cell_type": "markdown",
   "metadata": {},
   "source": [
    "**1. Summarize for us the goal of this project and how machine learning is useful in trying to accomplish it. As part of your answer, give some background on the dataset and how it can be used to answer the project question. Were there any outliers in the data when you got it, and how did you handle those?**\n",
    "\n",
    "> The goal of this project is to train a supervised maching learning algorithm using data obtained from the Enron Scandal. This data set contains financial information and email data from various employees in the former company. Enron was an energy commodities and services corporation that went bankrupt in 2001 due to fraud. You can learn more about the scandal [here](https://en.wikipedia.org/wiki/Enron_scandal). This ML project will attempt to classify whether an Enron employee was a person of interest (POI)."
   ]
  },
  {
   "cell_type": "markdown",
   "metadata": {},
   "source": [
    "**2. What features did you end up using in your POI identifier, and what selection process did you use to pick them? Did you have to do any scaling? Why or why not? As part of the assignment, you should attempt to engineer your own feature that does not come ready-made in the dataset -- explain what feature you tried to make, and the rationale behind it. (You do not necessarily have to use it in the final analysis, only engineer and test it.) In your feature selection step, if you used an algorithm like a decision tree, please also give the feature importances of the features that you use, and if you used an automated feature selection function like SelectKBest, please report the feature scores and reasons for your choice of parameter values.** \n",
    "\n",
    "> I believed that there would be a correlation between the 'shared_receipt_with_poi' and the 'from_poi_to_this_person' values. I joined those together as a percentage to see if I could see a relation. \n",
    "The other feature that I created was a sum of the 'total_payments' and the 'total_stock_value'. I think this was a better way to see the total amount an employee was compensated. \n",
    "After running SelectKBest on my data, 'total_compensation' did not make the cut, but 'from_poi_with_shared_receipt_percentage' returned an F-Score of 983.25. \n",
    "\n"
   ]
  },
  {
   "cell_type": "markdown",
   "metadata": {},
   "source": [
    "**3. What algorithm did you end up using? What other one(s) did you try? How did model performance differ between algorithms?**\n",
    "\n",
    "> I tried many different algorithms to see which ones would have the best effect on this dataset. The algorithms included: \n",
    "- Gaussian Naive Bayes\n",
    "- Support Vector Machine\n",
    "- AdaBoost\n",
    "- Decision Tree\n",
    "- Random Forest\n",
    "\n",
    "> The ranged from a high of 86% Naive Bayes to 84% with Decision Tree. "
   ]
  },
  {
   "cell_type": "markdown",
   "metadata": {},
   "source": [
    "**4. What does it mean to tune the parameters of an algorithm, and what can happen if you don’t do this well?  How did you tune the parameters of your particular algorithm? What parameters did you tune? (Some algorithms do not have parameters that you need to tune -- if this is the case for the one you picked, identify and briefly explain how you would have done it for the model that was not your final choice or a different model that does utilize parameter tuning, e.g. a decision tree classifier).**\n",
    "\n",
    "> Tuning is essentially selecting the best parameters for an algorithm to optimize its performance. I experimented with the C* paramenter in the SVM algorithm to see if there would be an effect on the outcome. By increasing the C parameter  I was able to increase the Accuracy to 91%, Precision to 67%, and Recall stayed the same at 40%.  \n",
    "<br>\n",
    "*C : float, optional (default=1.0)  \n",
    "Definition: Penalty parameter C of the error term."
   ]
  },
  {
   "cell_type": "markdown",
   "metadata": {},
   "source": [
    "**5. What is validation, and what’s a classic mistake you can make if you do it wrong? How did you validate your analysis?**\n",
    "\n",
    "> Validation is the process of retaining a sample of the data set and using it to test the classifier once it has been tuned and trained. This is important, because if the classifier is only tuned using training and test sets, it may become overfitted to the test set and thus underperform in real life applications. The validation set therefore acts as a final check to ensure overfitting has not occurred.  \n",
    "<br>\n",
    "I used K-fold cross-validation function to randomly split the data into k samples and train the classifier on each of the k-1 samples, before validating it on the remaining data.  \n"
   ]
  },
  {
   "cell_type": "markdown",
   "metadata": {},
   "source": [
    "**6. Give at least 2 evaluation metrics and your average performance for each of them.  Explain an interpretation of your metrics that says something human-understandable about your algorithm’s performance.**\n",
    "\n",
    ">"
   ]
  },
  {
   "cell_type": "code",
   "execution_count": null,
   "metadata": {},
   "outputs": [],
   "source": []
  }
 ],
 "metadata": {
  "kernelspec": {
   "display_name": "Python 3",
   "language": "python",
   "name": "python3"
  },
  "language_info": {
   "codemirror_mode": {
    "name": "ipython",
    "version": 3
   },
   "file_extension": ".py",
   "mimetype": "text/x-python",
   "name": "python",
   "nbconvert_exporter": "python",
   "pygments_lexer": "ipython3",
   "version": "3.7.4"
  }
 },
 "nbformat": 4,
 "nbformat_minor": 2
}
